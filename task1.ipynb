GRIP- The Sparks Foundation
Data Science & Business Analytics internship
Task 1-Predict the percentage scored by a student based on the no. of study hours.
Author - Vishal kumar
In given task we have to predict the percentage of marks expected by the student based upon the number of hours they studied.In this task only two variables are involved.
